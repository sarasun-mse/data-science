{
 "cells": [
  {
   "cell_type": "code",
   "execution_count": 23,
   "id": "8046f0c1",
   "metadata": {
    "execution": {
     "iopub.execute_input": "2022-04-07T22:08:10.490540Z",
     "iopub.status.busy": "2022-04-07T22:08:10.489472Z",
     "iopub.status.idle": "2022-04-07T22:08:12.089138Z",
     "shell.execute_reply": "2022-04-07T22:08:12.088353Z",
     "shell.execute_reply.started": "2022-04-07T21:54:28.784450Z"
    },
    "papermill": {
     "duration": 1.641319,
     "end_time": "2022-04-07T22:08:12.089305",
     "exception": false,
     "start_time": "2022-04-07T22:08:10.447986",
     "status": "completed"
    },
    "tags": []
   },
   "outputs": [],
   "source": [
    "import pandas as pd\n",
    "import numpy as np\n",
    "import random\n",
    "\n",
    "from sklearn.model_selection import train_test_split, GridSearchCV\n",
    "from sklearn.metrics import accuracy_score, classification_report, balanced_accuracy_score\n",
    "from sklearn.metrics import roc_auc_score, roc_curve, auc\n",
    "from sklearn.feature_extraction.text import TfidfVectorizer\n",
    "from sklearn.svm import LinearSVC\n",
    "from sklearn.naive_bayes import MultinomialNB\n",
    "from sklearn.metrics import accuracy_score, ConfusionMatrixDisplay, confusion_matrix\n",
    "from sklearn.multiclass import OneVsRestClassifier\n",
    "from sklearn.pipeline import Pipeline\n",
    "from sklearn.preprocessing import label_binarize, LabelEncoder\n",
    "\n",
    "import matplotlib.pyplot as plt\n",
    "plt.style.use('seaborn-white')\n",
    "import seaborn as sns\n",
    "sns.set_style(\"white\")\n",
    "sns.set_style(\"ticks\")\n",
    "sns.set_context(\"notebook\")\n",
    "\n",
    "from tqdm.notebook import tqdm\n",
    "tqdm.pandas()"
   ]
  },
  {
   "cell_type": "markdown",
   "id": "df5bbcb6",
   "metadata": {
    "papermill": {
     "duration": 0.038898,
     "end_time": "2022-04-07T22:08:12.165690",
     "exception": false,
     "start_time": "2022-04-07T22:08:12.126792",
     "status": "completed"
    },
    "tags": []
   },
   "source": [
    "# Data"
   ]
  },
  {
   "cell_type": "markdown",
   "id": "61d062bb",
   "metadata": {
    "papermill": {
     "duration": 0.036588,
     "end_time": "2022-04-07T22:08:12.238965",
     "exception": false,
     "start_time": "2022-04-07T22:08:12.202377",
     "status": "completed"
    },
    "tags": []
   },
   "source": [
    "Read the dataset"
   ]
  },
  {
   "cell_type": "code",
   "execution_count": 25,
   "id": "5d6bd38e",
   "metadata": {
    "execution": {
     "iopub.execute_input": "2022-04-07T22:08:12.316762Z",
     "iopub.status.busy": "2022-04-07T22:08:12.316193Z",
     "iopub.status.idle": "2022-04-07T22:08:15.479157Z",
     "shell.execute_reply": "2022-04-07T22:08:15.479677Z",
     "shell.execute_reply.started": "2022-04-07T21:54:30.513427Z"
    },
    "papermill": {
     "duration": 3.204459,
     "end_time": "2022-04-07T22:08:15.479872",
     "exception": false,
     "start_time": "2022-04-07T22:08:12.275413",
     "status": "completed"
    },
    "scrolled": false,
    "tags": []
   },
   "outputs": [
    {
     "name": "stdout",
     "output_type": "stream",
     "text": [
      "Shape: (137, 10)\n"
     ]
    },
    {
     "data": {
      "text/html": [
       "<div>\n",
       "<style scoped>\n",
       "    .dataframe tbody tr th:only-of-type {\n",
       "        vertical-align: middle;\n",
       "    }\n",
       "\n",
       "    .dataframe tbody tr th {\n",
       "        vertical-align: top;\n",
       "    }\n",
       "\n",
       "    .dataframe thead th {\n",
       "        text-align: right;\n",
       "    }\n",
       "</style>\n",
       "<table border=\"1\" class=\"dataframe\">\n",
       "  <thead>\n",
       "    <tr style=\"text-align: right;\">\n",
       "      <th></th>\n",
       "      <th>center2pivot</th>\n",
       "      <th>on2pivot</th>\n",
       "      <th>onrange</th>\n",
       "      <th>open2pivot</th>\n",
       "      <th>or2pivot</th>\n",
       "      <th>orrange</th>\n",
       "      <th>close2pivot</th>\n",
       "      <th>prevval</th>\n",
       "      <th>rthrange</th>\n",
       "      <th>dayofweek</th>\n",
       "    </tr>\n",
       "  </thead>\n",
       "  <tbody>\n",
       "    <tr>\n",
       "      <th>0</th>\n",
       "      <td>-64.083333</td>\n",
       "      <td>-19.583333</td>\n",
       "      <td>54.00</td>\n",
       "      <td>-31.833333</td>\n",
       "      <td>-42.583333</td>\n",
       "      <td>28.50</td>\n",
       "      <td>-6.583333</td>\n",
       "      <td>-3.083333</td>\n",
       "      <td>21.50</td>\n",
       "      <td>Tue</td>\n",
       "    </tr>\n",
       "    <tr>\n",
       "      <th>1</th>\n",
       "      <td>-1.958333</td>\n",
       "      <td>-0.333333</td>\n",
       "      <td>33.50</td>\n",
       "      <td>-4.333333</td>\n",
       "      <td>-3.958333</td>\n",
       "      <td>24.75</td>\n",
       "      <td>-88.583333</td>\n",
       "      <td>-64.083333</td>\n",
       "      <td>71.50</td>\n",
       "      <td>Wed</td>\n",
       "    </tr>\n",
       "    <tr>\n",
       "      <th>2</th>\n",
       "      <td>-25.375000</td>\n",
       "      <td>12.875000</td>\n",
       "      <td>33.75</td>\n",
       "      <td>6.750000</td>\n",
       "      <td>6.375000</td>\n",
       "      <td>15.75</td>\n",
       "      <td>-5.333333</td>\n",
       "      <td>-1.958333</td>\n",
       "      <td>32.25</td>\n",
       "      <td>Thu</td>\n",
       "    </tr>\n",
       "    <tr>\n",
       "      <th>3</th>\n",
       "      <td>-2.041667</td>\n",
       "      <td>-33.291667</td>\n",
       "      <td>60.25</td>\n",
       "      <td>-8.416667</td>\n",
       "      <td>-16.291667</td>\n",
       "      <td>28.25</td>\n",
       "      <td>-56.750000</td>\n",
       "      <td>-25.375000</td>\n",
       "      <td>79.25</td>\n",
       "      <td>Fri</td>\n",
       "    </tr>\n",
       "    <tr>\n",
       "      <th>4</th>\n",
       "      <td>-24.000000</td>\n",
       "      <td>8.500000</td>\n",
       "      <td>47.00</td>\n",
       "      <td>4.750000</td>\n",
       "      <td>5.375000</td>\n",
       "      <td>18.25</td>\n",
       "      <td>23.833333</td>\n",
       "      <td>-2.041667</td>\n",
       "      <td>88.75</td>\n",
       "      <td>Mon</td>\n",
       "    </tr>\n",
       "  </tbody>\n",
       "</table>\n",
       "</div>"
      ],
      "text/plain": [
       "   center2pivot   on2pivot  onrange  open2pivot   or2pivot  orrange  \\\n",
       "0    -64.083333 -19.583333    54.00  -31.833333 -42.583333    28.50   \n",
       "1     -1.958333  -0.333333    33.50   -4.333333  -3.958333    24.75   \n",
       "2    -25.375000  12.875000    33.75    6.750000   6.375000    15.75   \n",
       "3     -2.041667 -33.291667    60.25   -8.416667 -16.291667    28.25   \n",
       "4    -24.000000   8.500000    47.00    4.750000   5.375000    18.25   \n",
       "\n",
       "   close2pivot    prevval  rthrange dayofweek  \n",
       "0    -6.583333  -3.083333     21.50       Tue  \n",
       "1   -88.583333 -64.083333     71.50       Wed  \n",
       "2    -5.333333  -1.958333     32.25       Thu  \n",
       "3   -56.750000 -25.375000     79.25       Fri  \n",
       "4    23.833333  -2.041667     88.75       Mon  "
      ]
     },
     "metadata": {},
     "output_type": "display_data"
    }
   ],
   "source": [
    "df = pd.read_csv('../Downloads/pivot-study/center-training-data.csv')\n",
    "print('Shape: ' + str(df.shape))\n",
    "display(df.head(5))\n",
    "\n",
    "# NOTE TO SELF: THINK WOULD LIKE TO ADD PREV DAY CLOSE2PIVOT\n",
    "# MODEL HERE FIRST THEN ITERATE"
   ]
  },
  {
   "cell_type": "markdown",
   "id": "93b06ee4",
   "metadata": {
    "papermill": {
     "duration": 0.040013,
     "end_time": "2022-04-07T22:08:15.821693",
     "exception": false,
     "start_time": "2022-04-07T22:08:15.781680",
     "status": "completed"
    },
    "tags": []
   },
   "source": [
    "### EDA"
   ]
  },
  {
   "cell_type": "markdown",
   "id": "5c93d712",
   "metadata": {
    "papermill": {
     "duration": 0.038942,
     "end_time": "2022-04-07T22:08:15.900337",
     "exception": false,
     "start_time": "2022-04-07T22:08:15.861395",
     "status": "completed"
    },
    "tags": []
   },
   "source": [
    "Distribution of target variable"
   ]
  },
  {
   "cell_type": "code",
   "execution_count": 26,
   "id": "0a969cda",
   "metadata": {
    "execution": {
     "iopub.execute_input": "2022-04-07T22:08:16.001300Z",
     "iopub.status.busy": "2022-04-07T22:08:15.999949Z",
     "iopub.status.idle": "2022-04-07T22:08:16.171131Z",
     "shell.execute_reply": "2022-04-07T22:08:16.171975Z",
     "shell.execute_reply.started": "2022-04-07T21:54:33.800838Z"
    },
    "papermill": {
     "duration": 0.23263,
     "end_time": "2022-04-07T22:08:16.172251",
     "exception": false,
     "start_time": "2022-04-07T22:08:15.939621",
     "status": "completed"
    },
    "tags": []
   },
   "outputs": [
    {
     "data": {
      "image/png": "[encoded data removed]",
      "text/plain": [
       "<Figure size 432x288 with 1 Axes>"
      ]
     },
     "metadata": {},
     "output_type": "display_data"
    }
   ],
   "source": [
    "# plot = df.category.value_counts(normalize=True).plot.pie(autopct='%1.0f%%', \n",
    "#                                                          figsize=(5, 5), \n",
    "#                                                          title='% of News per Topic', \n",
    "#                                                          ylabel='')\n",
    "\n",
    "plot = df.center2pivot.plot.hist(bins=20,\n",
    "                                alpha=0.5,\n",
    "                                title='target var distro')"
   ]
  },
  {
   "cell_type": "code",
   "execution_count": 28,
   "id": "669a80ad",
   "metadata": {},
   "outputs": [
    {
     "data": {
      "image/png": "[encoded data removed]",
      "text/plain": [
       "<Figure size 432x288 with 1 Axes>"
      ]
     },
     "metadata": {},
     "output_type": "display_data"
    }
   ],
   "source": [
    "# explore relationship between input variables and the target\n",
    "\n",
    "invar = 'close2pivot'\n",
    "\n",
    "plot = df.plot.scatter(x=invar,\n",
    "                       y='center2pivot',\n",
    "                       title='target vs '+invar\n",
    "                       )"
   ]
  },
  {
   "cell_type": "markdown",
   "id": "1bff37e5",
   "metadata": {
    "papermill": {
     "duration": 0.044508,
     "end_time": "2022-04-07T22:08:34.112421",
     "exception": false,
     "start_time": "2022-04-07T22:08:34.067913",
     "status": "completed"
    },
    "tags": []
   },
   "source": [
    "## Split Train and Test\n",
    "Train (80%) and Test (20%). Stratified to maintain the proportion of the labels"
   ]
  },
  {
   "cell_type": "code",
   "execution_count": 37,
   "id": "03e487dc",
   "metadata": {},
   "outputs": [
    {
     "data": {
      "text/html": [
       "<div>\n",
       "<style scoped>\n",
       "    .dataframe tbody tr th:only-of-type {\n",
       "        vertical-align: middle;\n",
       "    }\n",
       "\n",
       "    .dataframe tbody tr th {\n",
       "        vertical-align: top;\n",
       "    }\n",
       "\n",
       "    .dataframe thead th {\n",
       "        text-align: right;\n",
       "    }\n",
       "</style>\n",
       "<table border=\"1\" class=\"dataframe\">\n",
       "  <thead>\n",
       "    <tr style=\"text-align: right;\">\n",
       "      <th></th>\n",
       "      <th>on2pivot</th>\n",
       "      <th>onrange</th>\n",
       "      <th>open2pivot</th>\n",
       "      <th>or2pivot</th>\n",
       "      <th>orrange</th>\n",
       "      <th>close2pivot</th>\n",
       "      <th>prevval</th>\n",
       "      <th>rthrange</th>\n",
       "    </tr>\n",
       "  </thead>\n",
       "  <tbody>\n",
       "    <tr>\n",
       "      <th>0</th>\n",
       "      <td>-19.583333</td>\n",
       "      <td>54.00</td>\n",
       "      <td>-31.833333</td>\n",
       "      <td>-42.583333</td>\n",
       "      <td>28.50</td>\n",
       "      <td>-6.583333</td>\n",
       "      <td>-3.083333</td>\n",
       "      <td>21.50</td>\n",
       "    </tr>\n",
       "    <tr>\n",
       "      <th>1</th>\n",
       "      <td>-0.333333</td>\n",
       "      <td>33.50</td>\n",
       "      <td>-4.333333</td>\n",
       "      <td>-3.958333</td>\n",
       "      <td>24.75</td>\n",
       "      <td>-88.583333</td>\n",
       "      <td>-64.083333</td>\n",
       "      <td>71.50</td>\n",
       "    </tr>\n",
       "    <tr>\n",
       "      <th>2</th>\n",
       "      <td>12.875000</td>\n",
       "      <td>33.75</td>\n",
       "      <td>6.750000</td>\n",
       "      <td>6.375000</td>\n",
       "      <td>15.75</td>\n",
       "      <td>-5.333333</td>\n",
       "      <td>-1.958333</td>\n",
       "      <td>32.25</td>\n",
       "    </tr>\n",
       "    <tr>\n",
       "      <th>3</th>\n",
       "      <td>-33.291667</td>\n",
       "      <td>60.25</td>\n",
       "      <td>-8.416667</td>\n",
       "      <td>-16.291667</td>\n",
       "      <td>28.25</td>\n",
       "      <td>-56.750000</td>\n",
       "      <td>-25.375000</td>\n",
       "      <td>79.25</td>\n",
       "    </tr>\n",
       "    <tr>\n",
       "      <th>4</th>\n",
       "      <td>8.500000</td>\n",
       "      <td>47.00</td>\n",
       "      <td>4.750000</td>\n",
       "      <td>5.375000</td>\n",
       "      <td>18.25</td>\n",
       "      <td>23.833333</td>\n",
       "      <td>-2.041667</td>\n",
       "      <td>88.75</td>\n",
       "    </tr>\n",
       "  </tbody>\n",
       "</table>\n",
       "</div>"
      ],
      "text/plain": [
       "    on2pivot  onrange  open2pivot   or2pivot  orrange  close2pivot    prevval  \\\n",
       "0 -19.583333    54.00  -31.833333 -42.583333    28.50    -6.583333  -3.083333   \n",
       "1  -0.333333    33.50   -4.333333  -3.958333    24.75   -88.583333 -64.083333   \n",
       "2  12.875000    33.75    6.750000   6.375000    15.75    -5.333333  -1.958333   \n",
       "3 -33.291667    60.25   -8.416667 -16.291667    28.25   -56.750000 -25.375000   \n",
       "4   8.500000    47.00    4.750000   5.375000    18.25    23.833333  -2.041667   \n",
       "\n",
       "   rthrange  \n",
       "0     21.50  \n",
       "1     71.50  \n",
       "2     32.25  \n",
       "3     79.25  \n",
       "4     88.75  "
      ]
     },
     "metadata": {},
     "output_type": "display_data"
    }
   ],
   "source": [
    "invars = df[df.columns[1:9]]\n",
    "\n",
    "display(invars.head(5))"
   ]
  },
  {
   "cell_type": "code",
   "execution_count": 38,
   "id": "3ea6420f",
   "metadata": {
    "execution": {
     "iopub.execute_input": "2022-04-07T22:08:34.204900Z",
     "iopub.status.busy": "2022-04-07T22:08:34.204230Z",
     "iopub.status.idle": "2022-04-07T22:08:34.243525Z",
     "shell.execute_reply": "2022-04-07T22:08:34.242948Z",
     "shell.execute_reply.started": "2022-04-07T21:54:58.177369Z"
    },
    "papermill": {
     "duration": 0.086095,
     "end_time": "2022-04-07T22:08:34.243668",
     "exception": false,
     "start_time": "2022-04-07T22:08:34.157573",
     "status": "completed"
    },
    "tags": []
   },
   "outputs": [
    {
     "name": "stdout",
     "output_type": "stream",
     "text": [
      "Shape train: (110, 8)\n",
      "Shape test: (27, 8)\n"
     ]
    }
   ],
   "source": [
    "X = invars\n",
    "y = df.center2pivot\n",
    "\n",
    "X_train, X_test, y_train, y_test = train_test_split(X, y, test_size=0.19, random_state=9)\n",
    "print('Shape train: ' + str(X_train.shape))\n",
    "print('Shape test: ' + str(X_test.shape))"
   ]
  },
  {
   "cell_type": "markdown",
   "id": "9741bca4",
   "metadata": {
    "papermill": {
     "duration": 0.04369,
     "end_time": "2022-04-07T22:08:35.777041",
     "exception": false,
     "start_time": "2022-04-07T22:08:35.733351",
     "status": "completed"
    },
    "tags": []
   },
   "source": [
    "# Modelling"
   ]
  },
  {
   "cell_type": "markdown",
   "id": "e38d5488",
   "metadata": {
    "papermill": {
     "duration": 0.044714,
     "end_time": "2022-04-07T22:08:35.865313",
     "exception": false,
     "start_time": "2022-04-07T22:08:35.820599",
     "status": "completed"
    },
    "tags": []
   },
   "source": [
    "Train 2 different models"
   ]
  },
  {
   "cell_type": "markdown",
   "id": "380137e1",
   "metadata": {
    "papermill": {
     "duration": 0.05711,
     "end_time": "2022-04-07T22:08:35.969146",
     "exception": false,
     "start_time": "2022-04-07T22:08:35.912036",
     "status": "completed"
    },
    "tags": []
   },
   "source": [
    "## LinearSVC"
   ]
  },
  {
   "cell_type": "markdown",
   "id": "9577029d",
   "metadata": {
    "papermill": {
     "duration": 0.050033,
     "end_time": "2022-04-07T22:08:36.067679",
     "exception": false,
     "start_time": "2022-04-07T22:08:36.017646",
     "status": "completed"
    },
    "tags": []
   },
   "source": [
    "Train LinearSVC using gridsearch, stratified cross-validation and optimizing the balanced accuracy"
   ]
  },
  {
   "cell_type": "code",
   "execution_count": 39,
   "id": "adf8ac60",
   "metadata": {
    "execution": {
     "iopub.execute_input": "2022-04-07T22:08:36.171633Z",
     "iopub.status.busy": "2022-04-07T22:08:36.166528Z",
     "iopub.status.idle": "2022-04-07T22:09:21.273948Z",
     "shell.execute_reply": "2022-04-07T22:09:21.274356Z",
     "shell.execute_reply.started": "2022-04-07T21:54:59.276223Z"
    },
    "papermill": {
     "duration": 45.156949,
     "end_time": "2022-04-07T22:09:21.274546",
     "exception": false,
     "start_time": "2022-04-07T22:08:36.117597",
     "status": "completed"
    },
    "tags": []
   },
   "outputs": [
    {
     "name": "stdout",
     "output_type": "stream",
     "text": [
      "Fitting 5 folds for each of 40 candidates, totalling 200 fits\n"
     ]
    },
    {
     "name": "stderr",
     "output_type": "stream",
     "text": [
      "/usr/local/lib/python3.9/site-packages/sklearn/model_selection/_validation.py:372: FitFailedWarning: \n",
      "200 fits failed out of a total of 200.\n",
      "The score on these train-test partitions for these parameters will be set to nan.\n",
      "If these failures are not expected, you can try to debug them by setting error_score='raise'.\n",
      "\n",
      "Below are more details about the failures:\n",
      "--------------------------------------------------------------------------------\n",
      "200 fits failed with the following error:\n",
      "Traceback (most recent call last):\n",
      "  File \"/usr/local/lib/python3.9/site-packages/sklearn/model_selection/_validation.py\", line 680, in _fit_and_score\n",
      "    estimator.fit(X_train, y_train, **fit_params)\n",
      "  File \"/usr/local/lib/python3.9/site-packages/sklearn/svm/_classes.py\", line 254, in fit\n",
      "    check_classification_targets(y)\n",
      "  File \"/usr/local/lib/python3.9/site-packages/sklearn/utils/multiclass.py\", line 197, in check_classification_targets\n",
      "    raise ValueError(\"Unknown label type: %r\" % y_type)\n",
      "ValueError: Unknown label type: 'continuous'\n",
      "\n",
      "  warnings.warn(some_fits_failed_message, FitFailedWarning)\n",
      "/usr/local/lib/python3.9/site-packages/sklearn/model_selection/_search.py:969: UserWarning: One or more of the test scores are non-finite: [nan nan nan nan nan nan nan nan nan nan nan nan nan nan nan nan nan nan\n",
      " nan nan nan nan nan nan nan nan nan nan nan nan nan nan nan nan nan nan\n",
      " nan nan nan nan]\n",
      "  warnings.warn(\n"
     ]
    },
    {
     "ename": "ValueError",
     "evalue": "Unknown label type: 'continuous'",
     "output_type": "error",
     "traceback": [
      "\u001b[0;31m---------------------------------------------------------------------------\u001b[0m",
      "\u001b[0;31mValueError\u001b[0m                                Traceback (most recent call last)",
      "Input \u001b[0;32mIn [39]\u001b[0m, in \u001b[0;36m<cell line: 12>\u001b[0;34m()\u001b[0m\n\u001b[1;32m      8\u001b[0m svc \u001b[38;5;241m=\u001b[39m LinearSVC(random_state\u001b[38;5;241m=\u001b[39m\u001b[38;5;241m9\u001b[39m)\n\u001b[1;32m      9\u001b[0m svc_clf \u001b[38;5;241m=\u001b[39m GridSearchCV(estimator\u001b[38;5;241m=\u001b[39msvc, param_grid\u001b[38;5;241m=\u001b[39mparam_grid, cv\u001b[38;5;241m=\u001b[39m \u001b[38;5;241m5\u001b[39m, \u001b[38;5;66;03m# Stratified Kfold by default (cv)\u001b[39;00m\n\u001b[1;32m     10\u001b[0m                        scoring\u001b[38;5;241m=\u001b[39m\u001b[38;5;124m'\u001b[39m\u001b[38;5;124mbalanced_accuracy\u001b[39m\u001b[38;5;124m'\u001b[39m, refit\u001b[38;5;241m=\u001b[39m\u001b[38;5;28;01mTrue\u001b[39;00m,\n\u001b[1;32m     11\u001b[0m                        return_train_score\u001b[38;5;241m=\u001b[39m\u001b[38;5;28;01mFalse\u001b[39;00m, n_jobs\u001b[38;5;241m=\u001b[39m\u001b[38;5;241m-\u001b[39m\u001b[38;5;241m1\u001b[39m, verbose\u001b[38;5;241m=\u001b[39m\u001b[38;5;241m1\u001b[39m)\n\u001b[0;32m---> 12\u001b[0m \u001b[43msvc_clf\u001b[49m\u001b[38;5;241;43m.\u001b[39;49m\u001b[43mfit\u001b[49m\u001b[43m(\u001b[49m\u001b[43mX_train\u001b[49m\u001b[43m,\u001b[49m\u001b[43m \u001b[49m\u001b[43my_train\u001b[49m\u001b[43m)\u001b[49m\n",
      "File \u001b[0;32m/usr/local/lib/python3.9/site-packages/sklearn/model_selection/_search.py:926\u001b[0m, in \u001b[0;36mBaseSearchCV.fit\u001b[0;34m(self, X, y, groups, **fit_params)\u001b[0m\n\u001b[1;32m    924\u001b[0m refit_start_time \u001b[38;5;241m=\u001b[39m time\u001b[38;5;241m.\u001b[39mtime()\n\u001b[1;32m    925\u001b[0m \u001b[38;5;28;01mif\u001b[39;00m y \u001b[38;5;129;01mis\u001b[39;00m \u001b[38;5;129;01mnot\u001b[39;00m \u001b[38;5;28;01mNone\u001b[39;00m:\n\u001b[0;32m--> 926\u001b[0m     \u001b[38;5;28;43mself\u001b[39;49m\u001b[38;5;241;43m.\u001b[39;49m\u001b[43mbest_estimator_\u001b[49m\u001b[38;5;241;43m.\u001b[39;49m\u001b[43mfit\u001b[49m\u001b[43m(\u001b[49m\u001b[43mX\u001b[49m\u001b[43m,\u001b[49m\u001b[43m \u001b[49m\u001b[43my\u001b[49m\u001b[43m,\u001b[49m\u001b[43m \u001b[49m\u001b[38;5;241;43m*\u001b[39;49m\u001b[38;5;241;43m*\u001b[39;49m\u001b[43mfit_params\u001b[49m\u001b[43m)\u001b[49m\n\u001b[1;32m    927\u001b[0m \u001b[38;5;28;01melse\u001b[39;00m:\n\u001b[1;32m    928\u001b[0m     \u001b[38;5;28mself\u001b[39m\u001b[38;5;241m.\u001b[39mbest_estimator_\u001b[38;5;241m.\u001b[39mfit(X, \u001b[38;5;241m*\u001b[39m\u001b[38;5;241m*\u001b[39mfit_params)\n",
      "File \u001b[0;32m/usr/local/lib/python3.9/site-packages/sklearn/svm/_classes.py:254\u001b[0m, in \u001b[0;36mLinearSVC.fit\u001b[0;34m(self, X, y, sample_weight)\u001b[0m\n\u001b[1;32m    244\u001b[0m     \u001b[38;5;28;01mraise\u001b[39;00m \u001b[38;5;167;01mValueError\u001b[39;00m(\u001b[38;5;124m\"\u001b[39m\u001b[38;5;124mPenalty term must be positive; got (C=\u001b[39m\u001b[38;5;132;01m%r\u001b[39;00m\u001b[38;5;124m)\u001b[39m\u001b[38;5;124m\"\u001b[39m \u001b[38;5;241m%\u001b[39m \u001b[38;5;28mself\u001b[39m\u001b[38;5;241m.\u001b[39mC)\n\u001b[1;32m    246\u001b[0m X, y \u001b[38;5;241m=\u001b[39m \u001b[38;5;28mself\u001b[39m\u001b[38;5;241m.\u001b[39m_validate_data(\n\u001b[1;32m    247\u001b[0m     X,\n\u001b[1;32m    248\u001b[0m     y,\n\u001b[0;32m   (...)\u001b[0m\n\u001b[1;32m    252\u001b[0m     accept_large_sparse\u001b[38;5;241m=\u001b[39m\u001b[38;5;28;01mFalse\u001b[39;00m,\n\u001b[1;32m    253\u001b[0m )\n\u001b[0;32m--> 254\u001b[0m \u001b[43mcheck_classification_targets\u001b[49m\u001b[43m(\u001b[49m\u001b[43my\u001b[49m\u001b[43m)\u001b[49m\n\u001b[1;32m    255\u001b[0m \u001b[38;5;28mself\u001b[39m\u001b[38;5;241m.\u001b[39mclasses_ \u001b[38;5;241m=\u001b[39m np\u001b[38;5;241m.\u001b[39munique(y)\n\u001b[1;32m    257\u001b[0m \u001b[38;5;28mself\u001b[39m\u001b[38;5;241m.\u001b[39mcoef_, \u001b[38;5;28mself\u001b[39m\u001b[38;5;241m.\u001b[39mintercept_, \u001b[38;5;28mself\u001b[39m\u001b[38;5;241m.\u001b[39mn_iter_ \u001b[38;5;241m=\u001b[39m _fit_liblinear(\n\u001b[1;32m    258\u001b[0m     X,\n\u001b[1;32m    259\u001b[0m     y,\n\u001b[0;32m   (...)\u001b[0m\n\u001b[1;32m    272\u001b[0m     sample_weight\u001b[38;5;241m=\u001b[39msample_weight,\n\u001b[1;32m    273\u001b[0m )\n",
      "File \u001b[0;32m/usr/local/lib/python3.9/site-packages/sklearn/utils/multiclass.py:197\u001b[0m, in \u001b[0;36mcheck_classification_targets\u001b[0;34m(y)\u001b[0m\n\u001b[1;32m    189\u001b[0m y_type \u001b[38;5;241m=\u001b[39m type_of_target(y)\n\u001b[1;32m    190\u001b[0m \u001b[38;5;28;01mif\u001b[39;00m y_type \u001b[38;5;129;01mnot\u001b[39;00m \u001b[38;5;129;01min\u001b[39;00m [\n\u001b[1;32m    191\u001b[0m     \u001b[38;5;124m\"\u001b[39m\u001b[38;5;124mbinary\u001b[39m\u001b[38;5;124m\"\u001b[39m,\n\u001b[1;32m    192\u001b[0m     \u001b[38;5;124m\"\u001b[39m\u001b[38;5;124mmulticlass\u001b[39m\u001b[38;5;124m\"\u001b[39m,\n\u001b[0;32m   (...)\u001b[0m\n\u001b[1;32m    195\u001b[0m     \u001b[38;5;124m\"\u001b[39m\u001b[38;5;124mmultilabel-sequences\u001b[39m\u001b[38;5;124m\"\u001b[39m,\n\u001b[1;32m    196\u001b[0m ]:\n\u001b[0;32m--> 197\u001b[0m     \u001b[38;5;28;01mraise\u001b[39;00m \u001b[38;5;167;01mValueError\u001b[39;00m(\u001b[38;5;124m\"\u001b[39m\u001b[38;5;124mUnknown label type: \u001b[39m\u001b[38;5;132;01m%r\u001b[39;00m\u001b[38;5;124m\"\u001b[39m \u001b[38;5;241m%\u001b[39m y_type)\n",
      "\u001b[0;31mValueError\u001b[0m: Unknown label type: 'continuous'"
     ]
    }
   ],
   "source": [
    "param_grid = { \n",
    "    'penalty': ['l1', 'l2'],\n",
    "    'loss' : ['hinge', 'squared_hinge'],\n",
    "    'C': np.arange(0.1, 1.1, 0.1),\n",
    "    'class_weight': ['balanced']\n",
    "}\n",
    "\n",
    "svc = LinearSVC(random_state=9)\n",
    "svc_clf = GridSearchCV(estimator=svc, param_grid=param_grid, cv= 5, # Stratified Kfold by default (cv)\n",
    "                       scoring='balanced_accuracy', refit=True,\n",
    "                       return_train_score=False, n_jobs=-1, verbose=1)\n",
    "svc_clf.fit(X_train, y_train)"
   ]
  },
  {
   "cell_type": "code",
   "execution_count": 18,
   "id": "6f9cab5d",
   "metadata": {
    "execution": {
     "iopub.execute_input": "2022-04-07T22:09:21.393390Z",
     "iopub.status.busy": "2022-04-07T22:09:21.392737Z",
     "iopub.status.idle": "2022-04-07T22:09:21.400242Z",
     "shell.execute_reply": "2022-04-07T22:09:21.399452Z",
     "shell.execute_reply.started": "2022-04-07T21:55:44.810965Z"
    },
    "papermill": {
     "duration": 0.080876,
     "end_time": "2022-04-07T22:09:21.400436",
     "exception": false,
     "start_time": "2022-04-07T22:09:21.319560",
     "status": "completed"
    },
    "tags": []
   },
   "outputs": [
    {
     "data": {
      "text/html": [
       "<div>\n",
       "<style scoped>\n",
       "    .dataframe tbody tr th:only-of-type {\n",
       "        vertical-align: middle;\n",
       "    }\n",
       "\n",
       "    .dataframe tbody tr th {\n",
       "        vertical-align: top;\n",
       "    }\n",
       "\n",
       "    .dataframe thead th {\n",
       "        text-align: right;\n",
       "    }\n",
       "</style>\n",
       "<table border=\"1\" class=\"dataframe\">\n",
       "  <thead>\n",
       "    <tr style=\"text-align: right;\">\n",
       "      <th></th>\n",
       "      <th>mean_fit_time</th>\n",
       "      <th>std_fit_time</th>\n",
       "      <th>mean_score_time</th>\n",
       "      <th>std_score_time</th>\n",
       "      <th>param_C</th>\n",
       "      <th>param_class_weight</th>\n",
       "      <th>param_loss</th>\n",
       "      <th>param_penalty</th>\n",
       "      <th>params</th>\n",
       "      <th>split0_test_score</th>\n",
       "      <th>split1_test_score</th>\n",
       "      <th>split2_test_score</th>\n",
       "      <th>split3_test_score</th>\n",
       "      <th>split4_test_score</th>\n",
       "      <th>mean_test_score</th>\n",
       "      <th>std_test_score</th>\n",
       "      <th>rank_test_score</th>\n",
       "    </tr>\n",
       "  </thead>\n",
       "  <tbody>\n",
       "    <tr>\n",
       "      <th>11</th>\n",
       "      <td>1.004982</td>\n",
       "      <td>0.021901</td>\n",
       "      <td>0.006448</td>\n",
       "      <td>0.000234</td>\n",
       "      <td>0.3</td>\n",
       "      <td>balanced</td>\n",
       "      <td>squared_hinge</td>\n",
       "      <td>l2</td>\n",
       "      <td>{'C': 0.30000000000000004, 'class_weight': 'ba...</td>\n",
       "      <td>0.856989</td>\n",
       "      <td>0.854426</td>\n",
       "      <td>0.856773</td>\n",
       "      <td>0.855288</td>\n",
       "      <td>0.855769</td>\n",
       "      <td>0.855849</td>\n",
       "      <td>0.000949</td>\n",
       "      <td>1</td>\n",
       "    </tr>\n",
       "    <tr>\n",
       "      <th>7</th>\n",
       "      <td>0.955020</td>\n",
       "      <td>0.034754</td>\n",
       "      <td>0.006556</td>\n",
       "      <td>0.000062</td>\n",
       "      <td>0.2</td>\n",
       "      <td>balanced</td>\n",
       "      <td>squared_hinge</td>\n",
       "      <td>l2</td>\n",
       "      <td>{'C': 0.2, 'class_weight': 'balanced', 'loss':...</td>\n",
       "      <td>0.857028</td>\n",
       "      <td>0.855577</td>\n",
       "      <td>0.856930</td>\n",
       "      <td>0.854736</td>\n",
       "      <td>0.854703</td>\n",
       "      <td>0.855795</td>\n",
       "      <td>0.001017</td>\n",
       "      <td>2</td>\n",
       "    </tr>\n",
       "    <tr>\n",
       "      <th>21</th>\n",
       "      <td>2.203387</td>\n",
       "      <td>0.165129</td>\n",
       "      <td>0.006458</td>\n",
       "      <td>0.000101</td>\n",
       "      <td>0.6</td>\n",
       "      <td>balanced</td>\n",
       "      <td>hinge</td>\n",
       "      <td>l2</td>\n",
       "      <td>{'C': 0.6, 'class_weight': 'balanced', 'loss':...</td>\n",
       "      <td>0.857163</td>\n",
       "      <td>0.854450</td>\n",
       "      <td>0.855239</td>\n",
       "      <td>0.855664</td>\n",
       "      <td>0.854547</td>\n",
       "      <td>0.855413</td>\n",
       "      <td>0.000983</td>\n",
       "      <td>3</td>\n",
       "    </tr>\n",
       "    <tr>\n",
       "      <th>33</th>\n",
       "      <td>2.994942</td>\n",
       "      <td>0.392858</td>\n",
       "      <td>0.006474</td>\n",
       "      <td>0.000145</td>\n",
       "      <td>0.9</td>\n",
       "      <td>balanced</td>\n",
       "      <td>hinge</td>\n",
       "      <td>l2</td>\n",
       "      <td>{'C': 0.9, 'class_weight': 'balanced', 'loss':...</td>\n",
       "      <td>0.858854</td>\n",
       "      <td>0.854604</td>\n",
       "      <td>0.854129</td>\n",
       "      <td>0.854035</td>\n",
       "      <td>0.855227</td>\n",
       "      <td>0.855370</td>\n",
       "      <td>0.001793</td>\n",
       "      <td>4</td>\n",
       "    </tr>\n",
       "    <tr>\n",
       "      <th>29</th>\n",
       "      <td>2.597344</td>\n",
       "      <td>0.158158</td>\n",
       "      <td>0.006732</td>\n",
       "      <td>0.000307</td>\n",
       "      <td>0.8</td>\n",
       "      <td>balanced</td>\n",
       "      <td>hinge</td>\n",
       "      <td>l2</td>\n",
       "      <td>{'C': 0.8, 'class_weight': 'balanced', 'loss':...</td>\n",
       "      <td>0.858201</td>\n",
       "      <td>0.854604</td>\n",
       "      <td>0.852989</td>\n",
       "      <td>0.855553</td>\n",
       "      <td>0.854429</td>\n",
       "      <td>0.855155</td>\n",
       "      <td>0.001729</td>\n",
       "      <td>5</td>\n",
       "    </tr>\n",
       "  </tbody>\n",
       "</table>\n",
       "</div>"
      ],
      "text/plain": [
       "    mean_fit_time  std_fit_time  mean_score_time  std_score_time param_C  \\\n",
       "11       1.004982      0.021901         0.006448        0.000234     0.3   \n",
       "7        0.955020      0.034754         0.006556        0.000062     0.2   \n",
       "21       2.203387      0.165129         0.006458        0.000101     0.6   \n",
       "33       2.994942      0.392858         0.006474        0.000145     0.9   \n",
       "29       2.597344      0.158158         0.006732        0.000307     0.8   \n",
       "\n",
       "   param_class_weight     param_loss param_penalty  \\\n",
       "11           balanced  squared_hinge            l2   \n",
       "7            balanced  squared_hinge            l2   \n",
       "21           balanced          hinge            l2   \n",
       "33           balanced          hinge            l2   \n",
       "29           balanced          hinge            l2   \n",
       "\n",
       "                                               params  split0_test_score  \\\n",
       "11  {'C': 0.30000000000000004, 'class_weight': 'ba...           0.856989   \n",
       "7   {'C': 0.2, 'class_weight': 'balanced', 'loss':...           0.857028   \n",
       "21  {'C': 0.6, 'class_weight': 'balanced', 'loss':...           0.857163   \n",
       "33  {'C': 0.9, 'class_weight': 'balanced', 'loss':...           0.858854   \n",
       "29  {'C': 0.8, 'class_weight': 'balanced', 'loss':...           0.858201   \n",
       "\n",
       "    split1_test_score  split2_test_score  split3_test_score  \\\n",
       "11           0.854426           0.856773           0.855288   \n",
       "7            0.855577           0.856930           0.854736   \n",
       "21           0.854450           0.855239           0.855664   \n",
       "33           0.854604           0.854129           0.854035   \n",
       "29           0.854604           0.852989           0.855553   \n",
       "\n",
       "    split4_test_score  mean_test_score  std_test_score  rank_test_score  \n",
       "11           0.855769         0.855849        0.000949                1  \n",
       "7            0.854703         0.855795        0.001017                2  \n",
       "21           0.854547         0.855413        0.000983                3  \n",
       "33           0.855227         0.855370        0.001793                4  \n",
       "29           0.854429         0.855155        0.001729                5  "
      ]
     },
     "metadata": {},
     "output_type": "display_data"
    },
    {
     "name": "stdout",
     "output_type": "stream",
     "text": [
      "Best score: 0.8558489996828632\n",
      "Best params: {'C': 0.30000000000000004, 'class_weight': 'balanced', 'loss': 'squared_hinge', 'penalty': 'l2'}\n"
     ]
    }
   ],
   "source": [
    "display(pd.DataFrame(svc_clf.cv_results_).sort_values('rank_test_score').head(5))\n",
    "print('Best score: ' + str(svc_clf.best_score_))\n",
    "print('Best params: ' + str(svc_clf.best_params_))"
   ]
  },
  {
   "cell_type": "markdown",
   "id": "cb14f776",
   "metadata": {
    "papermill": {
     "duration": 0.045493,
     "end_time": "2022-04-07T22:09:21.492159",
     "exception": false,
     "start_time": "2022-04-07T22:09:21.446666",
     "status": "completed"
    },
    "tags": []
   },
   "source": [
    "## Naive Bayes"
   ]
  },
  {
   "cell_type": "code",
   "execution_count": 19,
   "id": "20a9e07c",
   "metadata": {
    "execution": {
     "iopub.execute_input": "2022-04-07T22:09:21.588021Z",
     "iopub.status.busy": "2022-04-07T22:09:21.587136Z",
     "iopub.status.idle": "2022-04-07T22:09:22.850537Z",
     "shell.execute_reply": "2022-04-07T22:09:22.850069Z",
     "shell.execute_reply.started": "2022-04-07T21:55:44.844417Z"
    },
    "papermill": {
     "duration": 1.313134,
     "end_time": "2022-04-07T22:09:22.850683",
     "exception": false,
     "start_time": "2022-04-07T22:09:21.537549",
     "status": "completed"
    },
    "tags": []
   },
   "outputs": [
    {
     "name": "stdout",
     "output_type": "stream",
     "text": [
      "Fitting 5 folds for each of 22 candidates, totalling 110 fits\n"
     ]
    },
    {
     "data": {
      "text/plain": [
       "GridSearchCV(cv=5, estimator=MultinomialNB(), n_jobs=-1,\n",
       "             param_grid={'alpha': array([0. , 0.1, 0.2, 0.3, 0.4, 0.5, 0.6, 0.7, 0.8, 0.9, 1. ]),\n",
       "                         'fit_prior': [True, False]},\n",
       "             scoring='balanced_accuracy', verbose=1)"
      ]
     },
     "execution_count": 19,
     "metadata": {},
     "output_type": "execute_result"
    }
   ],
   "source": [
    "param_grid = { \n",
    "    'alpha': np.arange(0, 1.1, 0.1),\n",
    "    'fit_prior': [True, False],\n",
    "}\n",
    "\n",
    "svc = MultinomialNB()\n",
    "nb_clf = GridSearchCV(estimator=svc, param_grid=param_grid, cv= 5, # Stratified Kfold by default (cv)\n",
    "                      scoring='balanced_accuracy', refit=True,\n",
    "                      return_train_score=False, n_jobs=-1, verbose=1)\n",
    "nb_clf.fit(X_train_enc, y_train)"
   ]
  },
  {
   "cell_type": "code",
   "execution_count": 20,
   "id": "59e63eff",
   "metadata": {
    "execution": {
     "iopub.execute_input": "2022-04-07T22:09:22.967822Z",
     "iopub.status.busy": "2022-04-07T22:09:22.966806Z",
     "iopub.status.idle": "2022-04-07T22:09:22.971913Z",
     "shell.execute_reply": "2022-04-07T22:09:22.972339Z",
     "shell.execute_reply.started": "2022-04-07T21:55:46.144485Z"
    },
    "papermill": {
     "duration": 0.074279,
     "end_time": "2022-04-07T22:09:22.972497",
     "exception": false,
     "start_time": "2022-04-07T22:09:22.898218",
     "status": "completed"
    },
    "tags": []
   },
   "outputs": [
    {
     "data": {
      "text/html": [
       "<div>\n",
       "<style scoped>\n",
       "    .dataframe tbody tr th:only-of-type {\n",
       "        vertical-align: middle;\n",
       "    }\n",
       "\n",
       "    .dataframe tbody tr th {\n",
       "        vertical-align: top;\n",
       "    }\n",
       "\n",
       "    .dataframe thead th {\n",
       "        text-align: right;\n",
       "    }\n",
       "</style>\n",
       "<table border=\"1\" class=\"dataframe\">\n",
       "  <thead>\n",
       "    <tr style=\"text-align: right;\">\n",
       "      <th></th>\n",
       "      <th>mean_fit_time</th>\n",
       "      <th>std_fit_time</th>\n",
       "      <th>mean_score_time</th>\n",
       "      <th>std_score_time</th>\n",
       "      <th>param_alpha</th>\n",
       "      <th>param_fit_prior</th>\n",
       "      <th>params</th>\n",
       "      <th>split0_test_score</th>\n",
       "      <th>split1_test_score</th>\n",
       "      <th>split2_test_score</th>\n",
       "      <th>split3_test_score</th>\n",
       "      <th>split4_test_score</th>\n",
       "      <th>mean_test_score</th>\n",
       "      <th>std_test_score</th>\n",
       "      <th>rank_test_score</th>\n",
       "    </tr>\n",
       "  </thead>\n",
       "  <tbody>\n",
       "    <tr>\n",
       "      <th>9</th>\n",
       "      <td>0.026037</td>\n",
       "      <td>0.000397</td>\n",
       "      <td>0.006057</td>\n",
       "      <td>0.000046</td>\n",
       "      <td>0.4</td>\n",
       "      <td>False</td>\n",
       "      <td>{'alpha': 0.4, 'fit_prior': False}</td>\n",
       "      <td>0.848199</td>\n",
       "      <td>0.841636</td>\n",
       "      <td>0.844795</td>\n",
       "      <td>0.846691</td>\n",
       "      <td>0.845506</td>\n",
       "      <td>0.845365</td>\n",
       "      <td>0.002193</td>\n",
       "      <td>1</td>\n",
       "    </tr>\n",
       "    <tr>\n",
       "      <th>11</th>\n",
       "      <td>0.026336</td>\n",
       "      <td>0.000507</td>\n",
       "      <td>0.006029</td>\n",
       "      <td>0.000091</td>\n",
       "      <td>0.5</td>\n",
       "      <td>False</td>\n",
       "      <td>{'alpha': 0.5, 'fit_prior': False}</td>\n",
       "      <td>0.847387</td>\n",
       "      <td>0.842266</td>\n",
       "      <td>0.845334</td>\n",
       "      <td>0.846505</td>\n",
       "      <td>0.845094</td>\n",
       "      <td>0.845317</td>\n",
       "      <td>0.001735</td>\n",
       "      <td>2</td>\n",
       "    </tr>\n",
       "    <tr>\n",
       "      <th>13</th>\n",
       "      <td>0.026321</td>\n",
       "      <td>0.000382</td>\n",
       "      <td>0.006030</td>\n",
       "      <td>0.000063</td>\n",
       "      <td>0.6</td>\n",
       "      <td>False</td>\n",
       "      <td>{'alpha': 0.6000000000000001, 'fit_prior': False}</td>\n",
       "      <td>0.846469</td>\n",
       "      <td>0.842300</td>\n",
       "      <td>0.845673</td>\n",
       "      <td>0.846643</td>\n",
       "      <td>0.844245</td>\n",
       "      <td>0.845066</td>\n",
       "      <td>0.001622</td>\n",
       "      <td>3</td>\n",
       "    </tr>\n",
       "    <tr>\n",
       "      <th>15</th>\n",
       "      <td>0.026021</td>\n",
       "      <td>0.000649</td>\n",
       "      <td>0.005977</td>\n",
       "      <td>0.000095</td>\n",
       "      <td>0.7</td>\n",
       "      <td>False</td>\n",
       "      <td>{'alpha': 0.7000000000000001, 'fit_prior': False}</td>\n",
       "      <td>0.845894</td>\n",
       "      <td>0.842214</td>\n",
       "      <td>0.844958</td>\n",
       "      <td>0.845852</td>\n",
       "      <td>0.844581</td>\n",
       "      <td>0.844700</td>\n",
       "      <td>0.001343</td>\n",
       "      <td>4</td>\n",
       "    </tr>\n",
       "    <tr>\n",
       "      <th>7</th>\n",
       "      <td>0.030194</td>\n",
       "      <td>0.004343</td>\n",
       "      <td>0.006206</td>\n",
       "      <td>0.000386</td>\n",
       "      <td>0.3</td>\n",
       "      <td>False</td>\n",
       "      <td>{'alpha': 0.30000000000000004, 'fit_prior': Fa...</td>\n",
       "      <td>0.847540</td>\n",
       "      <td>0.840664</td>\n",
       "      <td>0.843935</td>\n",
       "      <td>0.845566</td>\n",
       "      <td>0.844628</td>\n",
       "      <td>0.844467</td>\n",
       "      <td>0.002255</td>\n",
       "      <td>5</td>\n",
       "    </tr>\n",
       "  </tbody>\n",
       "</table>\n",
       "</div>"
      ],
      "text/plain": [
       "    mean_fit_time  std_fit_time  mean_score_time  std_score_time param_alpha  \\\n",
       "9        0.026037      0.000397         0.006057        0.000046         0.4   \n",
       "11       0.026336      0.000507         0.006029        0.000091         0.5   \n",
       "13       0.026321      0.000382         0.006030        0.000063         0.6   \n",
       "15       0.026021      0.000649         0.005977        0.000095         0.7   \n",
       "7        0.030194      0.004343         0.006206        0.000386         0.3   \n",
       "\n",
       "   param_fit_prior                                             params  \\\n",
       "9            False                 {'alpha': 0.4, 'fit_prior': False}   \n",
       "11           False                 {'alpha': 0.5, 'fit_prior': False}   \n",
       "13           False  {'alpha': 0.6000000000000001, 'fit_prior': False}   \n",
       "15           False  {'alpha': 0.7000000000000001, 'fit_prior': False}   \n",
       "7            False  {'alpha': 0.30000000000000004, 'fit_prior': Fa...   \n",
       "\n",
       "    split0_test_score  split1_test_score  split2_test_score  \\\n",
       "9            0.848199           0.841636           0.844795   \n",
       "11           0.847387           0.842266           0.845334   \n",
       "13           0.846469           0.842300           0.845673   \n",
       "15           0.845894           0.842214           0.844958   \n",
       "7            0.847540           0.840664           0.843935   \n",
       "\n",
       "    split3_test_score  split4_test_score  mean_test_score  std_test_score  \\\n",
       "9            0.846691           0.845506         0.845365        0.002193   \n",
       "11           0.846505           0.845094         0.845317        0.001735   \n",
       "13           0.846643           0.844245         0.845066        0.001622   \n",
       "15           0.845852           0.844581         0.844700        0.001343   \n",
       "7            0.845566           0.844628         0.844467        0.002255   \n",
       "\n",
       "    rank_test_score  \n",
       "9                 1  \n",
       "11                2  \n",
       "13                3  \n",
       "15                4  \n",
       "7                 5  "
      ]
     },
     "metadata": {},
     "output_type": "display_data"
    },
    {
     "name": "stdout",
     "output_type": "stream",
     "text": [
      "Best score: 0.845365331468597\n",
      "Best params: {'alpha': 0.4, 'fit_prior': False}\n"
     ]
    }
   ],
   "source": [
    "display(pd.DataFrame(nb_clf.cv_results_).sort_values('rank_test_score').head(5))\n",
    "print('Best score: ' + str(nb_clf.best_score_))\n",
    "print('Best params: ' + str(nb_clf.best_params_))"
   ]
  },
  {
   "cell_type": "markdown",
   "id": "be800b99",
   "metadata": {
    "papermill": {
     "duration": 0.047392,
     "end_time": "2022-04-07T22:09:23.067063",
     "exception": false,
     "start_time": "2022-04-07T22:09:23.019671",
     "status": "completed"
    },
    "tags": []
   },
   "source": [
    "# Results"
   ]
  },
  {
   "cell_type": "markdown",
   "id": "cd72cae4",
   "metadata": {
    "papermill": {
     "duration": 0.047304,
     "end_time": "2022-04-07T22:09:23.161485",
     "exception": false,
     "start_time": "2022-04-07T22:09:23.114181",
     "status": "completed"
    },
    "tags": []
   },
   "source": [
    "Create the functions to obtain the metrics:\n",
    "- Accuracy, Balanced accuracy and Report\n",
    "- Confusion matrix\n",
    "- Roc curve"
   ]
  },
  {
   "cell_type": "code",
   "execution_count": 21,
   "id": "35c53570",
   "metadata": {
    "execution": {
     "iopub.execute_input": "2022-04-07T22:09:23.260547Z",
     "iopub.status.busy": "2022-04-07T22:09:23.259583Z",
     "iopub.status.idle": "2022-04-07T22:09:23.274856Z",
     "shell.execute_reply": "2022-04-07T22:09:23.275334Z",
     "shell.execute_reply.started": "2022-04-07T22:04:50.555732Z"
    },
    "papermill": {
     "duration": 0.065864,
     "end_time": "2022-04-07T22:09:23.275504",
     "exception": false,
     "start_time": "2022-04-07T22:09:23.209640",
     "status": "completed"
    },
    "tags": []
   },
   "outputs": [],
   "source": [
    "def general_metrics(y_test, y_pred):\n",
    "    print('Accuracy: ' + str(accuracy_score(y_test, y_pred).round(2)))\n",
    "    print('Balanced Accuracy: ' + str(balanced_accuracy_score(y_test, y_pred).round(2)))\n",
    "    print('Report:')\n",
    "    print(classification_report(y_test, y_pred))\n",
    "\n",
    "def plot_confusion_matrix(y_test, y_pred, classes):\n",
    "    fig, ax = plt.subplots(figsize=(10, 8))\n",
    "    cmp = ConfusionMatrixDisplay(\n",
    "        confusion_matrix(y_test, y_pred),\n",
    "        display_labels=classes)\n",
    "    cmp.plot(ax=ax)\n",
    "    plt.show()\n",
    "    \n",
    "def plot_roc_curve(y_test, y_score, classes):\n",
    "    n_classes = len(classes)\n",
    "    y_test = label_binarize(y_test, classes=np.arange(n_classes))\n",
    "\n",
    "    # Compute ROC curve and ROC area for each class\n",
    "    fpr = dict()\n",
    "    tpr = dict()\n",
    "    roc_auc = dict()\n",
    "    for i in range(n_classes):\n",
    "        fpr[i], tpr[i], _ = roc_curve(y_test[:, i], y_score[:, i])\n",
    "        roc_auc[i] = auc(fpr[i], tpr[i])\n",
    "  \n",
    "    # Compute micro-average ROC curve and ROC area\n",
    "    fpr[\"micro\"], tpr[\"micro\"], _ = roc_curve(y_test.ravel(), y_score.ravel())\n",
    "    roc_auc[\"micro\"] = auc(fpr[\"micro\"], tpr[\"micro\"])\n",
    "\n",
    "    # First aggregate all false positive rates\n",
    "    all_fpr = np.unique(np.concatenate([fpr[i] for i in range(n_classes)]))\n",
    "\n",
    "    # Then interpolate all ROC curves at this points\n",
    "    mean_tpr = np.zeros_like(all_fpr)\n",
    "    for i in range(n_classes):\n",
    "        mean_tpr += np.interp(all_fpr, fpr[i], tpr[i])\n",
    "\n",
    "    # Finally average it and compute AUC\n",
    "    mean_tpr /= n_classes\n",
    "\n",
    "    fpr[\"macro\"] = all_fpr\n",
    "    tpr[\"macro\"] = mean_tpr\n",
    "    roc_auc[\"macro\"] = auc(fpr[\"macro\"], tpr[\"macro\"])\n",
    "\n",
    "    # Plot all ROC curves\n",
    "    plt.figure(figsize=(10,5))\n",
    "    lw = 2\n",
    "    plt.plot(fpr[\"micro\"], tpr[\"micro\"],\n",
    "             label=\"micro-average ROC curve (area = {0:0.2f})\".format(roc_auc[\"micro\"]),\n",
    "             color=\"tab:pink\", linestyle=\":\", linewidth=4,)\n",
    "\n",
    "    plt.plot(fpr[\"macro\"], tpr[\"macro\"],\n",
    "             label=\"macro-average ROC curve (area = {0:0.2f})\".format(roc_auc[\"macro\"]),\n",
    "             color=\"tab:gray\", linestyle=\":\", linewidth=4,)\n",
    "\n",
    "    colors = [\"tab:blue\", \"tab:orange\", \"tab:green\", \"tab:red\", \"tab:purple\"]\n",
    "    for i, color in enumerate(colors):\n",
    "        type_class = classes[i]\n",
    "        plt.plot(fpr[i], tpr[i], color=color, lw=lw, \n",
    "                 label=\"ROC curve of \" + type_class +\" (area = {1:0.2f})\".format(i, roc_auc[i]),)\n",
    "\n",
    "    plt.plot([0, 1], [0, 1], \"k--\", lw=lw)\n",
    "    plt.xlim([0.0, 1.0])\n",
    "    plt.ylim([0.0, 1.05])\n",
    "    plt.xlabel(\"False Positive Rate\")\n",
    "    plt.ylabel(\"True Positive Rate\")\n",
    "    plt.title(\"ROC curve\")\n",
    "    plt.legend()"
   ]
  },
  {
   "cell_type": "markdown",
   "id": "9e3bbcbc",
   "metadata": {
    "papermill": {
     "duration": 0.047246,
     "end_time": "2022-04-07T22:09:23.370662",
     "exception": false,
     "start_time": "2022-04-07T22:09:23.323416",
     "status": "completed"
    },
    "tags": []
   },
   "source": [
    "## LinearSVC Results"
   ]
  },
  {
   "cell_type": "code",
   "execution_count": 22,
   "id": "fbadc99f",
   "metadata": {
    "execution": {
     "iopub.execute_input": "2022-04-07T22:09:23.469815Z",
     "iopub.status.busy": "2022-04-07T22:09:23.468839Z",
     "iopub.status.idle": "2022-04-07T22:09:23.511516Z",
     "shell.execute_reply": "2022-04-07T22:09:23.511993Z",
     "shell.execute_reply.started": "2022-04-07T22:04:54.386146Z"
    },
    "papermill": {
     "duration": 0.093555,
     "end_time": "2022-04-07T22:09:23.512163",
     "exception": false,
     "start_time": "2022-04-07T22:09:23.418608",
     "status": "completed"
    },
    "tags": []
   },
   "outputs": [
    {
     "name": "stdout",
     "output_type": "stream",
     "text": [
      "Accuracy: 0.88\n",
      "Balanced Accuracy: 0.86\n",
      "Report:\n",
      "              precision    recall  f1-score   support\n",
      "\n",
      "           0       0.86      0.85      0.85      3212\n",
      "           1       0.94      0.91      0.92      6548\n",
      "           2       0.76      0.79      0.77       977\n",
      "           3       0.83      0.86      0.84      1977\n",
      "           4       0.84      0.88      0.86      3565\n",
      "\n",
      "    accuracy                           0.88     16279\n",
      "   macro avg       0.85      0.86      0.85     16279\n",
      "weighted avg       0.88      0.88      0.88     16279\n",
      "\n"
     ]
    }
   ],
   "source": [
    "y_pred = svc_clf.predict(X_test_enc)\n",
    "y_score = svc_clf.decision_function(X_test_enc)\n",
    "\n",
    "general_metrics(y_test, y_pred)"
   ]
  },
  {
   "cell_type": "code",
   "execution_count": 23,
   "id": "482f8baa",
   "metadata": {
    "execution": {
     "iopub.execute_input": "2022-04-07T22:09:23.612516Z",
     "iopub.status.busy": "2022-04-07T22:09:23.611611Z",
     "iopub.status.idle": "2022-04-07T22:09:23.903992Z",
     "shell.execute_reply": "2022-04-07T22:09:23.904517Z",
     "shell.execute_reply.started": "2022-04-07T22:04:54.982842Z"
    },
    "papermill": {
     "duration": 0.345021,
     "end_time": "2022-04-07T22:09:23.904687",
     "exception": false,
     "start_time": "2022-04-07T22:09:23.559666",
     "status": "completed"
    },
    "tags": []
   },
   "outputs": [
    {
     "data": {
      "image/png": "[encoded data removed]",
      "text/plain": [
       "<Figure size 720x576 with 2 Axes>"
      ]
     },
     "metadata": {},
     "output_type": "display_data"
    }
   ],
   "source": [
    "plot_confusion_matrix(y_test, y_pred, classes)"
   ]
  },
  {
   "cell_type": "code",
   "execution_count": 24,
   "id": "955ebcc9",
   "metadata": {
    "execution": {
     "iopub.execute_input": "2022-04-07T22:09:24.009696Z",
     "iopub.status.busy": "2022-04-07T22:09:24.008759Z",
     "iopub.status.idle": "2022-04-07T22:09:24.375200Z",
     "shell.execute_reply": "2022-04-07T22:09:24.375721Z",
     "shell.execute_reply.started": "2022-04-07T22:04:55.565840Z"
    },
    "papermill": {
     "duration": 0.421429,
     "end_time": "2022-04-07T22:09:24.375912",
     "exception": false,
     "start_time": "2022-04-07T22:09:23.954483",
     "status": "completed"
    },
    "tags": []
   },
   "outputs": [
    {
     "data": {
      "image/png": "[encoded data removed]",
      "text/plain": [
       "<Figure size 720x360 with 1 Axes>"
      ]
     },
     "metadata": {},
     "output_type": "display_data"
    }
   ],
   "source": [
    "plot_roc_curve(y_test, y_score, classes)"
   ]
  },
  {
   "cell_type": "markdown",
   "id": "436cbe45",
   "metadata": {
    "papermill": {
     "duration": 0.050604,
     "end_time": "2022-04-07T22:09:24.477441",
     "exception": false,
     "start_time": "2022-04-07T22:09:24.426837",
     "status": "completed"
    },
    "tags": []
   },
   "source": [
    "## Naive Bayes Results"
   ]
  },
  {
   "cell_type": "code",
   "execution_count": 25,
   "id": "de04c49f",
   "metadata": {
    "execution": {
     "iopub.execute_input": "2022-04-07T22:09:24.583176Z",
     "iopub.status.busy": "2022-04-07T22:09:24.582229Z",
     "iopub.status.idle": "2022-04-07T22:09:24.629862Z",
     "shell.execute_reply": "2022-04-07T22:09:24.629288Z",
     "shell.execute_reply.started": "2022-04-07T22:06:10.592440Z"
    },
    "papermill": {
     "duration": 0.10153,
     "end_time": "2022-04-07T22:09:24.630005",
     "exception": false,
     "start_time": "2022-04-07T22:09:24.528475",
     "status": "completed"
    },
    "tags": []
   },
   "outputs": [
    {
     "name": "stdout",
     "output_type": "stream",
     "text": [
      "Accuracy: 0.85\n",
      "Balanced Accuracy: 0.85\n",
      "Report:\n",
      "              precision    recall  f1-score   support\n",
      "\n",
      "           0       0.82      0.85      0.83      3212\n",
      "           1       0.94      0.88      0.91      6548\n",
      "           2       0.62      0.83      0.71       977\n",
      "           3       0.77      0.86      0.82      1977\n",
      "           4       0.87      0.82      0.85      3565\n",
      "\n",
      "    accuracy                           0.85     16279\n",
      "   macro avg       0.81      0.85      0.82     16279\n",
      "weighted avg       0.86      0.85      0.86     16279\n",
      "\n"
     ]
    }
   ],
   "source": [
    "y_pred = nb_clf.predict(X_test_enc)\n",
    "y_score = nb_clf.predict_proba(X_test_enc)\n",
    "\n",
    "general_metrics(y_test, y_pred)"
   ]
  },
  {
   "cell_type": "code",
   "execution_count": 26,
   "id": "d44d1cde",
   "metadata": {
    "execution": {
     "iopub.execute_input": "2022-04-07T22:09:24.737166Z",
     "iopub.status.busy": "2022-04-07T22:09:24.736249Z",
     "iopub.status.idle": "2022-04-07T22:09:25.024831Z",
     "shell.execute_reply": "2022-04-07T22:09:25.024197Z",
     "shell.execute_reply.started": "2022-04-07T22:06:13.443289Z"
    },
    "papermill": {
     "duration": 0.343513,
     "end_time": "2022-04-07T22:09:25.024971",
     "exception": false,
     "start_time": "2022-04-07T22:09:24.681458",
     "status": "completed"
    },
    "tags": []
   },
   "outputs": [
    {
     "data": {
      "image/png": "[encoded data removed]",
      "text/plain": [
       "<Figure size 720x576 with 2 Axes>"
      ]
     },
     "metadata": {},
     "output_type": "display_data"
    }
   ],
   "source": [
    "plot_confusion_matrix(y_test, y_pred, classes)"
   ]
  },
  {
   "cell_type": "code",
   "execution_count": 27,
   "id": "8ca576a8",
   "metadata": {
    "execution": {
     "iopub.execute_input": "2022-04-07T22:09:25.137755Z",
     "iopub.status.busy": "2022-04-07T22:09:25.137171Z",
     "iopub.status.idle": "2022-04-07T22:09:25.500200Z",
     "shell.execute_reply": "2022-04-07T22:09:25.500679Z",
     "shell.execute_reply.started": "2022-04-07T22:06:56.516684Z"
    },
    "papermill": {
     "duration": 0.421944,
     "end_time": "2022-04-07T22:09:25.500872",
     "exception": false,
     "start_time": "2022-04-07T22:09:25.078928",
     "status": "completed"
    },
    "tags": []
   },
   "outputs": [
    {
     "data": {
      "image/png": "[encoded data removed]",
      "text/plain": [
       "<Figure size 720x360 with 1 Axes>"
      ]
     },
     "metadata": {},
     "output_type": "display_data"
    }
   ],
   "source": [
    "plot_roc_curve(y_test, y_score, classes)"
   ]
  },
  {
   "cell_type": "markdown",
   "id": "df623fe0",
   "metadata": {
    "papermill": {
     "duration": 0.054905,
     "end_time": "2022-04-07T22:09:25.611556",
     "exception": false,
     "start_time": "2022-04-07T22:09:25.556651",
     "status": "completed"
    },
    "tags": []
   },
   "source": [
    "# Demo"
   ]
  },
  {
   "cell_type": "code",
   "execution_count": 28,
   "id": "0f211ad5",
   "metadata": {
    "execution": {
     "iopub.execute_input": "2022-04-07T22:09:25.724444Z",
     "iopub.status.busy": "2022-04-07T22:09:25.723842Z",
     "iopub.status.idle": "2022-04-07T22:09:25.731084Z",
     "shell.execute_reply": "2022-04-07T22:09:25.730560Z",
     "shell.execute_reply.started": "2022-04-07T12:34:19.073493Z"
    },
    "papermill": {
     "duration": 0.064754,
     "end_time": "2022-04-07T22:09:25.731247",
     "exception": false,
     "start_time": "2022-04-07T22:09:25.666493",
     "status": "completed"
    },
    "tags": []
   },
   "outputs": [],
   "source": [
    "def get_random_new(news_df, classes, topic):\n",
    "    sample = news_df[test_og['category'] == classes.index(topic)].sample(1).iloc[0]\n",
    "    text = sample['headline']\n",
    "    label = sample['category']\n",
    "    return text, label\n",
    "\n",
    "def deliver_new(new, normalizer, encoder, model, users, classes):\n",
    "    print('Headline: ' + new)\n",
    "    #print('True label: ' + classes[new[1]])\n",
    "    \n",
    "    new_norm = normalizer.clean_all(new)\n",
    "    new_enc = encoder.transform([new_norm])\n",
    "    idx_class = model.predict(new_enc)[0]\n",
    "    class_ = classes[idx_class]\n",
    "    \n",
    "    print('Classify as: ' + class_)\n",
    "    print('Delivered to the following users: ', end='')\n",
    "    final_users = []\n",
    "    for k,v in users.get_items():\n",
    "        if class_ in v:\n",
    "            final_users.append(k)\n",
    "    print(final_users)"
   ]
  },
  {
   "cell_type": "markdown",
   "id": "582533f1",
   "metadata": {
    "papermill": {
     "duration": 0.055372,
     "end_time": "2022-04-07T22:09:25.842224",
     "exception": false,
     "start_time": "2022-04-07T22:09:25.786852",
     "status": "completed"
    },
    "tags": []
   },
   "source": [
    "Generate 10 random users for the demo"
   ]
  },
  {
   "cell_type": "code",
   "execution_count": 29,
   "id": "e07f215d",
   "metadata": {
    "execution": {
     "iopub.execute_input": "2022-04-07T22:09:25.961100Z",
     "iopub.status.busy": "2022-04-07T22:09:25.960260Z",
     "iopub.status.idle": "2022-04-07T22:09:25.963867Z",
     "shell.execute_reply": "2022-04-07T22:09:25.964336Z",
     "shell.execute_reply.started": "2022-04-07T12:34:19.085026Z"
    },
    "papermill": {
     "duration": 0.065506,
     "end_time": "2022-04-07T22:09:25.964508",
     "exception": false,
     "start_time": "2022-04-07T22:09:25.899002",
     "status": "completed"
    },
    "tags": []
   },
   "outputs": [
    {
     "data": {
      "text/plain": [
       "{'user_1': ['WELLNESS'],\n",
       " 'user_2': ['SPORTS', 'WELLNESS', 'TRAVEL', 'ENTERTAINMENT'],\n",
       " 'user_3': ['WELLNESS', 'TRAVEL', 'SPORTS', 'ENTERTAINMENT'],\n",
       " 'user_4': ['SPORTS', 'WELLNESS'],\n",
       " 'user_5': ['WELLNESS', 'POLITICS'],\n",
       " 'user_6': ['WELLNESS', 'POLITICS'],\n",
       " 'user_7': ['ENTERTAINMENT', 'POLITICS', 'SPORTS', 'WELLNESS'],\n",
       " 'user_8': ['ENTERTAINMENT', 'POLITICS', 'TRAVEL'],\n",
       " 'user_9': ['POLITICS', 'SPORTS', 'WELLNESS'],\n",
       " 'user_10': ['WELLNESS', 'SPORTS', 'TRAVEL']}"
      ]
     },
     "execution_count": 29,
     "metadata": {},
     "output_type": "execute_result"
    }
   ],
   "source": [
    "users = Users(10, classes)\n",
    "users.users"
   ]
  },
  {
   "cell_type": "markdown",
   "id": "c534db6d",
   "metadata": {
    "papermill": {
     "duration": 0.054751,
     "end_time": "2022-04-07T22:09:26.074936",
     "exception": false,
     "start_time": "2022-04-07T22:09:26.020185",
     "status": "completed"
    },
    "tags": []
   },
   "source": [
    "Retrieve the original test set headlines"
   ]
  },
  {
   "cell_type": "code",
   "execution_count": 30,
   "id": "ca78ae46",
   "metadata": {
    "execution": {
     "iopub.execute_input": "2022-04-07T22:09:26.191004Z",
     "iopub.status.busy": "2022-04-07T22:09:26.190029Z",
     "iopub.status.idle": "2022-04-07T22:09:26.211996Z",
     "shell.execute_reply": "2022-04-07T22:09:26.212503Z",
     "shell.execute_reply.started": "2022-04-07T12:34:19.100264Z"
    },
    "papermill": {
     "duration": 0.081362,
     "end_time": "2022-04-07T22:09:26.212680",
     "exception": false,
     "start_time": "2022-04-07T22:09:26.131318",
     "status": "completed"
    },
    "tags": []
   },
   "outputs": [],
   "source": [
    "test_og = df.loc[y_test.index]"
   ]
  },
  {
   "cell_type": "markdown",
   "id": "772d8934",
   "metadata": {
    "papermill": {
     "duration": 0.054823,
     "end_time": "2022-04-07T22:09:26.322073",
     "exception": false,
     "start_time": "2022-04-07T22:09:26.267250",
     "status": "completed"
    },
    "tags": []
   },
   "source": [
    "Example by distributing a random POLITICS news item from test"
   ]
  },
  {
   "cell_type": "code",
   "execution_count": 31,
   "id": "6a5b6216",
   "metadata": {
    "execution": {
     "iopub.execute_input": "2022-04-07T22:09:26.438230Z",
     "iopub.status.busy": "2022-04-07T22:09:26.437350Z",
     "iopub.status.idle": "2022-04-07T22:09:26.445980Z",
     "shell.execute_reply": "2022-04-07T22:09:26.446612Z",
     "shell.execute_reply.started": "2022-04-07T12:34:19.127363Z"
    },
    "papermill": {
     "duration": 0.069912,
     "end_time": "2022-04-07T22:09:26.446867",
     "exception": false,
     "start_time": "2022-04-07T22:09:26.376955",
     "status": "completed"
    },
    "tags": []
   },
   "outputs": [
    {
     "name": "stdout",
     "output_type": "stream",
     "text": [
      "Headline: Can Joe Biden Save the Democrats? (and Do the Dems Need Saving?)\n",
      "Classify as: POLITICS\n",
      "Delivered to the following users: ['user_5', 'user_6', 'user_7', 'user_8', 'user_9']\n"
     ]
    }
   ],
   "source": [
    "new, label = get_random_new(test_og, classes, 'POLITICS')\n",
    "deliver_new(new, norm, tfidf, svc_clf, users, classes)"
   ]
  },
  {
   "cell_type": "markdown",
   "id": "059f01f3",
   "metadata": {
    "papermill": {
     "duration": 0.054865,
     "end_time": "2022-04-07T22:09:26.557627",
     "exception": false,
     "start_time": "2022-04-07T22:09:26.502762",
     "status": "completed"
    },
    "tags": []
   },
   "source": [
    "Example by distributing an inputed headline."
   ]
  },
  {
   "cell_type": "code",
   "execution_count": 32,
   "id": "165e5012",
   "metadata": {
    "execution": {
     "iopub.execute_input": "2022-04-07T22:09:26.674763Z",
     "iopub.status.busy": "2022-04-07T22:09:26.674180Z",
     "iopub.status.idle": "2022-04-07T22:09:26.678319Z",
     "shell.execute_reply": "2022-04-07T22:09:26.678713Z",
     "shell.execute_reply.started": "2022-04-07T12:34:19.141375Z"
    },
    "papermill": {
     "duration": 0.065562,
     "end_time": "2022-04-07T22:09:26.678944",
     "exception": false,
     "start_time": "2022-04-07T22:09:26.613382",
     "status": "completed"
    },
    "tags": []
   },
   "outputs": [
    {
     "name": "stdout",
     "output_type": "stream",
     "text": [
      "Headline: The Man at the Center of the French Election Isn’t Even on the Ballot\n",
      "Classify as: POLITICS\n",
      "Delivered to the following users: ['user_5', 'user_6', 'user_7', 'user_8', 'user_9']\n"
     ]
    }
   ],
   "source": [
    "new = 'The Man at the Center of the French Election Isn’t Even on the Ballot'\n",
    "deliver_new(new, norm, tfidf, svc_clf, users, classes)"
   ]
  }
 ],
 "metadata": {
  "kernelspec": {
   "display_name": "Python 3 (ipykernel)",
   "language": "python",
   "name": "python3"
  },
  "language_info": {
   "codemirror_mode": {
    "name": "ipython",
    "version": 3
   },
   "file_extension": ".py",
   "mimetype": "text/x-python",
   "name": "python",
   "nbconvert_exporter": "python",
   "pygments_lexer": "ipython3",
   "version": "3.9.7"
  },
  "papermill": {
   "default_parameters": {},
   "duration": 86.372657,
   "end_time": "2022-04-07T22:09:27.948269",
   "environment_variables": {},
   "exception": null,
   "input_path": "__notebook__.ipynb",
   "output_path": "__notebook__.ipynb",
   "parameters": {},
   "start_time": "2022-04-07T22:08:01.575612",
   "version": "2.3.3"
  },
  "widgets": {
   "application/vnd.jupyter.widget-state+json": {
    "state": {
     "13f079e96c01453988fe46d68aed0d9e": {
      "model_module": "@jupyter-widgets/controls",
      "model_module_version": "1.5.0",
      "model_name": "HBoxModel",
      "state": {
       "_dom_classes": [],
       "_model_module": "@jupyter-widgets/controls",
       "_model_module_version": "1.5.0",
       "_model_name": "HBoxModel",
       "_view_count": null,
       "_view_module": "@jupyter-widgets/controls",
       "_view_module_version": "1.5.0",
       "_view_name": "HBoxView",
       "box_style": "",
       "children": [
        "IPY_MODEL_2e3a178b4b2c4efb9594a09d4075c847",
        "IPY_MODEL_ea2fbbfce4024c8f8282f7580883ef67",
        "IPY_MODEL_2f42ade89ecd4a8aa01ea3ed318fccff"
       ],
       "layout": "IPY_MODEL_534b8e24d7ff450b88ab895b0afc2179"
      }
     },
     "20a0103c085d46ff8f377d96638d3e24": {
      "model_module": "@jupyter-widgets/controls",
      "model_module_version": "1.5.0",
      "model_name": "DescriptionStyleModel",
      "state": {
       "_model_module": "@jupyter-widgets/controls",
       "_model_module_version": "1.5.0",
       "_model_name": "DescriptionStyleModel",
       "_view_count": null,
       "_view_module": "@jupyter-widgets/base",
       "_view_module_version": "1.2.0",
       "_view_name": "StyleView",
       "description_width": ""
      }
     },
     "2c3a37c51d284ffe9db90134865c8a51": {
      "model_module": "@jupyter-widgets/controls",
      "model_module_version": "1.5.0",
      "model_name": "DescriptionStyleModel",
      "state": {
       "_model_module": "@jupyter-widgets/controls",
       "_model_module_version": "1.5.0",
       "_model_name": "DescriptionStyleModel",
       "_view_count": null,
       "_view_module": "@jupyter-widgets/base",
       "_view_module_version": "1.2.0",
       "_view_name": "StyleView",
       "description_width": ""
      }
     },
     "2e3a178b4b2c4efb9594a09d4075c847": {
      "model_module": "@jupyter-widgets/controls",
      "model_module_version": "1.5.0",
      "model_name": "HTMLModel",
      "state": {
       "_dom_classes": [],
       "_model_module": "@jupyter-widgets/controls",
       "_model_module_version": "1.5.0",
       "_model_name": "HTMLModel",
       "_view_count": null,
       "_view_module": "@jupyter-widgets/controls",
       "_view_module_version": "1.5.0",
       "_view_name": "HTMLView",
       "description": "",
       "description_tooltip": null,
       "layout": "IPY_MODEL_76c10ed135ff48b194d80f0a0e30f342",
       "placeholder": "​",
       "style": "IPY_MODEL_20a0103c085d46ff8f377d96638d3e24",
       "value": "100%"
      }
     },
     "2f42ade89ecd4a8aa01ea3ed318fccff": {
      "model_module": "@jupyter-widgets/controls",
      "model_module_version": "1.5.0",
      "model_name": "HTMLModel",
      "state": {
       "_dom_classes": [],
       "_model_module": "@jupyter-widgets/controls",
       "_model_module_version": "1.5.0",
       "_model_name": "HTMLModel",
       "_view_count": null,
       "_view_module": "@jupyter-widgets/controls",
       "_view_module_version": "1.5.0",
       "_view_name": "HTMLView",
       "description": "",
       "description_tooltip": null,
       "layout": "IPY_MODEL_497a79a19fdd4269b11a9c83bf75f67d",
       "placeholder": "​",
       "style": "IPY_MODEL_2c3a37c51d284ffe9db90134865c8a51",
       "value": " 81395/81395 [00:15&lt;00:00, 6071.74it/s]"
      }
     },
     "42dbed2267a04d9f8a010f6390e02e62": {
      "model_module": "@jupyter-widgets/base",
      "model_module_version": "1.2.0",
      "model_name": "LayoutModel",
      "state": {
       "_model_module": "@jupyter-widgets/base",
       "_model_module_version": "1.2.0",
       "_model_name": "LayoutModel",
       "_view_count": null,
       "_view_module": "@jupyter-widgets/base",
       "_view_module_version": "1.2.0",
       "_view_name": "LayoutView",
       "align_content": null,
       "align_items": null,
       "align_self": null,
       "border": null,
       "bottom": null,
       "display": null,
       "flex": null,
       "flex_flow": null,
       "grid_area": null,
       "grid_auto_columns": null,
       "grid_auto_flow": null,
       "grid_auto_rows": null,
       "grid_column": null,
       "grid_gap": null,
       "grid_row": null,
       "grid_template_areas": null,
       "grid_template_columns": null,
       "grid_template_rows": null,
       "height": null,
       "justify_content": null,
       "justify_items": null,
       "left": null,
       "margin": null,
       "max_height": null,
       "max_width": null,
       "min_height": null,
       "min_width": null,
       "object_fit": null,
       "object_position": null,
       "order": null,
       "overflow": null,
       "overflow_x": null,
       "overflow_y": null,
       "padding": null,
       "right": null,
       "top": null,
       "visibility": null,
       "width": null
      }
     },
     "497a79a19fdd4269b11a9c83bf75f67d": {
      "model_module": "@jupyter-widgets/base",
      "model_module_version": "1.2.0",
      "model_name": "LayoutModel",
      "state": {
       "_model_module": "@jupyter-widgets/base",
       "_model_module_version": "1.2.0",
       "_model_name": "LayoutModel",
       "_view_count": null,
       "_view_module": "@jupyter-widgets/base",
       "_view_module_version": "1.2.0",
       "_view_name": "LayoutView",
       "align_content": null,
       "align_items": null,
       "align_self": null,
       "border": null,
       "bottom": null,
       "display": null,
       "flex": null,
       "flex_flow": null,
       "grid_area": null,
       "grid_auto_columns": null,
       "grid_auto_flow": null,
       "grid_auto_rows": null,
       "grid_column": null,
       "grid_gap": null,
       "grid_row": null,
       "grid_template_areas": null,
       "grid_template_columns": null,
       "grid_template_rows": null,
       "height": null,
       "justify_content": null,
       "justify_items": null,
       "left": null,
       "margin": null,
       "max_height": null,
       "max_width": null,
       "min_height": null,
       "min_width": null,
       "object_fit": null,
       "object_position": null,
       "order": null,
       "overflow": null,
       "overflow_x": null,
       "overflow_y": null,
       "padding": null,
       "right": null,
       "top": null,
       "visibility": null,
       "width": null
      }
     },
     "534b8e24d7ff450b88ab895b0afc2179": {
      "model_module": "@jupyter-widgets/base",
      "model_module_version": "1.2.0",
      "model_name": "LayoutModel",
      "state": {
       "_model_module": "@jupyter-widgets/base",
       "_model_module_version": "1.2.0",
       "_model_name": "LayoutModel",
       "_view_count": null,
       "_view_module": "@jupyter-widgets/base",
       "_view_module_version": "1.2.0",
       "_view_name": "LayoutView",
       "align_content": null,
       "align_items": null,
       "align_self": null,
       "border": null,
       "bottom": null,
       "display": null,
       "flex": null,
       "flex_flow": null,
       "grid_area": null,
       "grid_auto_columns": null,
       "grid_auto_flow": null,
       "grid_auto_rows": null,
       "grid_column": null,
       "grid_gap": null,
       "grid_row": null,
       "grid_template_areas": null,
       "grid_template_columns": null,
       "grid_template_rows": null,
       "height": null,
       "justify_content": null,
       "justify_items": null,
       "left": null,
       "margin": null,
       "max_height": null,
       "max_width": null,
       "min_height": null,
       "min_width": null,
       "object_fit": null,
       "object_position": null,
       "order": null,
       "overflow": null,
       "overflow_x": null,
       "overflow_y": null,
       "padding": null,
       "right": null,
       "top": null,
       "visibility": null,
       "width": null
      }
     },
     "76c10ed135ff48b194d80f0a0e30f342": {
      "model_module": "@jupyter-widgets/base",
      "model_module_version": "1.2.0",
      "model_name": "LayoutModel",
      "state": {
       "_model_module": "@jupyter-widgets/base",
       "_model_module_version": "1.2.0",
       "_model_name": "LayoutModel",
       "_view_count": null,
       "_view_module": "@jupyter-widgets/base",
       "_view_module_version": "1.2.0",
       "_view_name": "LayoutView",
       "align_content": null,
       "align_items": null,
       "align_self": null,
       "border": null,
       "bottom": null,
       "display": null,
       "flex": null,
       "flex_flow": null,
       "grid_area": null,
       "grid_auto_columns": null,
       "grid_auto_flow": null,
       "grid_auto_rows": null,
       "grid_column": null,
       "grid_gap": null,
       "grid_row": null,
       "grid_template_areas": null,
       "grid_template_columns": null,
       "grid_template_rows": null,
       "height": null,
       "justify_content": null,
       "justify_items": null,
       "left": null,
       "margin": null,
       "max_height": null,
       "max_width": null,
       "min_height": null,
       "min_width": null,
       "object_fit": null,
       "object_position": null,
       "order": null,
       "overflow": null,
       "overflow_x": null,
       "overflow_y": null,
       "padding": null,
       "right": null,
       "top": null,
       "visibility": null,
       "width": null
      }
     },
     "a78788969d7742fa8838246a56b603cf": {
      "model_module": "@jupyter-widgets/controls",
      "model_module_version": "1.5.0",
      "model_name": "ProgressStyleModel",
      "state": {
       "_model_module": "@jupyter-widgets/controls",
       "_model_module_version": "1.5.0",
       "_model_name": "ProgressStyleModel",
       "_view_count": null,
       "_view_module": "@jupyter-widgets/base",
       "_view_module_version": "1.2.0",
       "_view_name": "StyleView",
       "bar_color": null,
       "description_width": ""
      }
     },
     "ea2fbbfce4024c8f8282f7580883ef67": {
      "model_module": "@jupyter-widgets/controls",
      "model_module_version": "1.5.0",
      "model_name": "FloatProgressModel",
      "state": {
       "_dom_classes": [],
       "_model_module": "@jupyter-widgets/controls",
       "_model_module_version": "1.5.0",
       "_model_name": "FloatProgressModel",
       "_view_count": null,
       "_view_module": "@jupyter-widgets/controls",
       "_view_module_version": "1.5.0",
       "_view_name": "ProgressView",
       "bar_style": "success",
       "description": "",
       "description_tooltip": null,
       "layout": "IPY_MODEL_42dbed2267a04d9f8a010f6390e02e62",
       "max": 81395,
       "min": 0,
       "orientation": "horizontal",
       "style": "IPY_MODEL_a78788969d7742fa8838246a56b603cf",
       "value": 81395
      }
     }
    },
    "version_major": 2,
    "version_minor": 0
   }
  }
 },
 "nbformat": 4,
 "nbformat_minor": 5
}
