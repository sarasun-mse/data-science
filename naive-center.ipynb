# day N pivot as naive center
# goal to predict center_day_Np1 - pivot_day_N
